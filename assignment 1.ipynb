{
 "cells": [
  {
   "cell_type": "markdown",
   "id": "27c43ca5",
   "metadata": {},
   "source": [
    "Q.1- Write a python program to print \"Hello Python\" ?"
   ]
  },
  {
   "cell_type": "code",
   "execution_count": 4,
   "id": "3e7272de",
   "metadata": {},
   "outputs": [
    {
     "name": "stdout",
     "output_type": "stream",
     "text": [
      "Hello Python\n"
     ]
    }
   ],
   "source": [
    "print(\"Hello Python\")"
   ]
  },
  {
   "cell_type": "markdown",
   "id": "361c1bf4",
   "metadata": {},
   "source": [
    "Q.2-Write a python program to do arithmatic operation addition and division ?"
   ]
  },
  {
   "cell_type": "code",
   "execution_count": 13,
   "id": "8bbe5ecc",
   "metadata": {},
   "outputs": [
    {
     "name": "stdout",
     "output_type": "stream",
     "text": [
      "addition of number 15 and 5 is 20\n",
      "division of number 15 and 5 is 3.0\n"
     ]
    }
   ],
   "source": [
    "a=15\n",
    "b=5\n",
    "c=a+b\n",
    "print(f\"addition of number {a} and {b} is\",c) #addition of two numbers\n",
    "d=a/b\n",
    "print(f\"division of number {a} and {b} is\",d) #division of two numbers"
   ]
  },
  {
   "cell_type": "markdown",
   "id": "59a36dae",
   "metadata": {},
   "source": [
    "Q.3 Write a python program to find a area of triangle ?"
   ]
  },
  {
   "cell_type": "code",
   "execution_count": 14,
   "id": "17a5e9c0",
   "metadata": {},
   "outputs": [
    {
     "name": "stdout",
     "output_type": "stream",
     "text": [
      "area of triangle is 25.0\n"
     ]
    }
   ],
   "source": [
    "b=5\n",
    "h=10\n",
    "a=(b*h)/2\n",
    "print(\"area of triangle is\",a)"
   ]
  },
  {
   "cell_type": "markdown",
   "id": "3ca2dc91",
   "metadata": {},
   "source": [
    "Q.4-Write a python program to swap two variables?"
   ]
  },
  {
   "cell_type": "code",
   "execution_count": 22,
   "id": "01049e16",
   "metadata": {},
   "outputs": [
    {
     "name": "stdout",
     "output_type": "stream",
     "text": [
      "10 5\n"
     ]
    }
   ],
   "source": [
    "a=5\n",
    "b=10\n",
    "c=a\n",
    "a=b\n",
    "b=c\n",
    "print(a,b)\n",
    "\n",
    "\n"
   ]
  },
  {
   "cell_type": "markdown",
   "id": "4b1fab1d",
   "metadata": {},
   "source": [
    "Q.5-Write a pyhon program to generate random number?"
   ]
  },
  {
   "cell_type": "code",
   "execution_count": 35,
   "id": "645c148d",
   "metadata": {},
   "outputs": [
    {
     "data": {
      "text/plain": [
       "3"
      ]
     },
     "execution_count": 35,
     "metadata": {},
     "output_type": "execute_result"
    }
   ],
   "source": [
    "import random\n",
    "random.randint(0,5)\n"
   ]
  },
  {
   "cell_type": "code",
   "execution_count": null,
   "id": "3e8a7f06",
   "metadata": {},
   "outputs": [],
   "source": []
  },
  {
   "cell_type": "code",
   "execution_count": null,
   "id": "22349b7f",
   "metadata": {},
   "outputs": [],
   "source": []
  }
 ],
 "metadata": {
  "kernelspec": {
   "display_name": "Python 3 (ipykernel)",
   "language": "python",
   "name": "python3"
  },
  "language_info": {
   "codemirror_mode": {
    "name": "ipython",
    "version": 3
   },
   "file_extension": ".py",
   "mimetype": "text/x-python",
   "name": "python",
   "nbconvert_exporter": "python",
   "pygments_lexer": "ipython3",
   "version": "3.9.12"
  }
 },
 "nbformat": 4,
 "nbformat_minor": 5
}
