{
 "cells": [
  {
   "cell_type": "markdown",
   "id": "43ea8d27",
   "metadata": {},
   "source": [
    "Q.1 Write a python program to find the factorial of number?"
   ]
  },
  {
   "cell_type": "code",
   "execution_count": 6,
   "id": "931c7083",
   "metadata": {},
   "outputs": [
    {
     "name": "stdout",
     "output_type": "stream",
     "text": [
      "enter the number\n",
      "3\n",
      "6\n"
     ]
    }
   ],
   "source": [
    "n=int(input(\"enter the number\\n\"))\n",
    "fact=1\n",
    "for i in range(1,n+1):\n",
    "    fact=fact*i\n",
    "print(fact)"
   ]
  },
  {
   "cell_type": "markdown",
   "id": "b389dfe3",
   "metadata": {},
   "source": [
    "Q.2 Write a program to print multiplication table?"
   ]
  },
  {
   "cell_type": "code",
   "execution_count": 7,
   "id": "f6e3d31b",
   "metadata": {},
   "outputs": [
    {
     "name": "stdout",
     "output_type": "stream",
     "text": [
      "enter the number\n",
      "45\n",
      "45\n",
      "90\n",
      "135\n",
      "180\n",
      "225\n",
      "270\n",
      "315\n",
      "360\n",
      "405\n",
      "450\n"
     ]
    }
   ],
   "source": [
    "a=int(input(\"enter the number\\n\"))\n",
    "table=0\n",
    "for i in range(1,11):\n",
    "    table=a*i\n",
    "    print(table)\n",
    "    "
   ]
  },
  {
   "cell_type": "markdown",
   "id": "eda8f734",
   "metadata": {},
   "source": [
    "Q.3 Write a program to find the sum of natural numbers?"
   ]
  },
  {
   "cell_type": "code",
   "execution_count": 8,
   "id": "3757bab9",
   "metadata": {},
   "outputs": [
    {
     "name": "stdout",
     "output_type": "stream",
     "text": [
      "please enter nth number\n",
      "23\n",
      "276\n"
     ]
    }
   ],
   "source": [
    "n=int(input(\"please enter nth number\\n\"))\n",
    "sum=0\n",
    "for i in range(1,n+1):\n",
    "    sum=sum+i\n",
    "print(sum)"
   ]
  },
  {
   "cell_type": "markdown",
   "id": "47ac1a35",
   "metadata": {},
   "source": [
    "Q.4 Write a program to print fibonacci series?"
   ]
  },
  {
   "cell_type": "code",
   "execution_count": 9,
   "id": "e479cc94",
   "metadata": {},
   "outputs": [
    {
     "name": "stdout",
     "output_type": "stream",
     "text": [
      "0\n",
      "1\n",
      "1\n",
      "2\n",
      "3\n",
      "5\n",
      "8\n",
      "13\n",
      "21\n",
      "34\n",
      "55\n",
      "89\n",
      "144\n",
      "233\n",
      "377\n"
     ]
    }
   ],
   "source": [
    "a=0\n",
    "b=1\n",
    "for i in range(0,15):\n",
    "    print(a)\n",
    "    c=a+b\n",
    "    a =b\n",
    "    b = c\n",
    "\n"
   ]
  },
  {
   "cell_type": "markdown",
   "id": "1542dd54",
   "metadata": {},
   "source": [
    "#### 4.\tWrite a Python Program to Check Armstrong Number?"
   ]
  },
  {
   "cell_type": "code",
   "execution_count": 10,
   "id": "e20a157a",
   "metadata": {},
   "outputs": [
    {
     "name": "stdout",
     "output_type": "stream",
     "text": [
      "enter the number\n",
      "234\n",
      "[2, 3, 4]\n",
      "99\n",
      "this is not armstrong number\n"
     ]
    }
   ],
   "source": [
    "num=input(\"enter the number\\n\")\n",
    "\n",
    "lst = list(map(int,num))\n",
    "print(lst)\n",
    "sum=0\n",
    "for i in range(len(lst)):\n",
    "    sum=sum+(lst[i]**len(lst))\n",
    "print(sum)\n",
    "if sum==int(num):\n",
    "    print(\"this is armstrong number\")\n",
    "else:\n",
    "    print(\"this is not armstrong number\")\n",
    "    \n",
    "    \n"
   ]
  },
  {
   "cell_type": "markdown",
   "id": "a5f42e3a",
   "metadata": {},
   "source": [
    "Q.5 Write a program to check armstrong number in an interval?"
   ]
  },
  {
   "cell_type": "code",
   "execution_count": 54,
   "id": "dd438fc1",
   "metadata": {},
   "outputs": [
    {
     "name": "stdout",
     "output_type": "stream",
     "text": [
      "[1, 2, 3, 4, 5, 6, 7, 8, 9, 153, 370, 371, 407]\n"
     ]
    }
   ],
   "source": [
    "lst3 =[]\n",
    "for i in range(1,500):\n",
    "    lst1=list(map(int,str(i)))\n",
    "#     print(lst1)\n",
    "    sum = 0\n",
    "    for j in range(len(lst1)):\n",
    "        sum=sum+(lst1[j]**len(lst1))\n",
    "#     print(sum,i)\n",
    "    if sum==i:\n",
    "        lst3.append(i)\n",
    "print(lst3)\n",
    "        \n",
    "   \n",
    "    "
   ]
  },
  {
   "cell_type": "code",
   "execution_count": 80,
   "id": "f2fcffa2",
   "metadata": {},
   "outputs": [
    {
     "name": "stdout",
     "output_type": "stream",
     "text": [
      "['p', 'o', 'o', 'j', 'a']\n"
     ]
    }
   ],
   "source": [
    "name=\"pooja\"\n",
    "lst =[]\n",
    "for i in name:\n",
    "    lst.append(i)\n",
    "print(lst)\n",
    "    "
   ]
  },
  {
   "cell_type": "code",
   "execution_count": null,
   "id": "5e847327",
   "metadata": {},
   "outputs": [],
   "source": []
  }
 ],
 "metadata": {
  "kernelspec": {
   "display_name": "Python 3 (ipykernel)",
   "language": "python",
   "name": "python3"
  },
  "language_info": {
   "codemirror_mode": {
    "name": "ipython",
    "version": 3
   },
   "file_extension": ".py",
   "mimetype": "text/x-python",
   "name": "python",
   "nbconvert_exporter": "python",
   "pygments_lexer": "ipython3",
   "version": "3.9.12"
  }
 },
 "nbformat": 4,
 "nbformat_minor": 5
}
