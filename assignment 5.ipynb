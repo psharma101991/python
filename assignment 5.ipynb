{
 "cells": [
  {
   "cell_type": "markdown",
   "id": "1b908b47",
   "metadata": {},
   "source": [
    "1.\tWrite a Python Program to Find LCM?"
   ]
  },
  {
   "cell_type": "code",
   "execution_count": 2,
   "id": "a53059db",
   "metadata": {},
   "outputs": [
    {
     "data": {
      "text/plain": [
       "408"
      ]
     },
     "execution_count": 2,
     "metadata": {},
     "output_type": "execute_result"
    }
   ],
   "source": [
    "import math\n",
    "math.lcm(24,34)"
   ]
  },
  {
   "cell_type": "markdown",
   "id": "4800eaa0",
   "metadata": {},
   "source": [
    "2.\tWrite a Python Program to Find HCF?"
   ]
  },
  {
   "cell_type": "code",
   "execution_count": 3,
   "id": "d90336d4",
   "metadata": {},
   "outputs": [
    {
     "data": {
      "text/plain": [
       "5"
      ]
     },
     "execution_count": 3,
     "metadata": {},
     "output_type": "execute_result"
    }
   ],
   "source": [
    "import math\n",
    "math.gcd(25,60)"
   ]
  },
  {
   "cell_type": "markdown",
   "id": "df4d99d0",
   "metadata": {},
   "source": [
    "3.\tWrite a Python Program to Convert Decimal to Binary, Octal and Hexadecimal?"
   ]
  },
  {
   "cell_type": "code",
   "execution_count": 25,
   "id": "f6d2d84e",
   "metadata": {},
   "outputs": [
    {
     "name": "stdout",
     "output_type": "stream",
     "text": [
      "enter the number\n",
      "45\n",
      "binary form of 45 is 101101,\n",
      " octal form of 45 is 0o55,\n",
      " hexadecimal form of 45 is 0x2d.\n"
     ]
    }
   ],
   "source": [
    "num=int(input(\"enter the number\\n\"))\n",
    "a = bin(num)[2:]\n",
    "b = oct(num)\n",
    "c = hex(num)\n",
    "print(f\"binary form of {num} is {a},\\n octal form of {num} is {b},\\n hexadecimal form of {num} is {c}.\")"
   ]
  },
  {
   "cell_type": "markdown",
   "id": "afe8604d",
   "metadata": {},
   "source": [
    "4.\tWrite a Python Program To Find ASCII value of a character?"
   ]
  },
  {
   "cell_type": "code",
   "execution_count": 30,
   "id": "77be56da",
   "metadata": {},
   "outputs": [
    {
     "name": "stdout",
     "output_type": "stream",
     "text": [
      "enter the character\n",
      "o\n"
     ]
    },
    {
     "data": {
      "text/plain": [
       "111"
      ]
     },
     "execution_count": 30,
     "metadata": {},
     "output_type": "execute_result"
    }
   ],
   "source": [
    "c = input(\"enter the character\\n\")\n",
    "ord(c)"
   ]
  },
  {
   "cell_type": "markdown",
   "id": "e6cb7fb3",
   "metadata": {},
   "source": [
    "5.\tWrite a Python Program to Make a Simple Calculator with 4 basic mathematical operations?"
   ]
  },
  {
   "cell_type": "code",
   "execution_count": 87,
   "id": "830bd3c2",
   "metadata": {},
   "outputs": [
    {
     "name": "stdout",
     "output_type": "stream",
     "text": [
      "enter the first number a =4\n",
      "enter the second number b =0\n",
      "enter the operation c =/\n",
      "value of b should not be ZERO\n"
     ]
    }
   ],
   "source": [
    "a=int(input(\"enter the first number a =\"))\n",
    "b=int(input(\"enter the second number b =\"))\n",
    "c=input(\"enter the operation c =\")\n",
    "try:    \n",
    "    if c==\"+\":\n",
    "        print(a+b)\n",
    "    if c==\"-\":\n",
    "        print(a-b)\n",
    "    if c==\"*\":\n",
    "        print(a*b)\n",
    "    if c==\"/\":\n",
    "        print(a/b)\n",
    "except ZeroDivisionError : \n",
    "    print(\"value of b should not be ZERO\")\n",
    "    \n",
    "\n"
   ]
  },
  {
   "cell_type": "code",
   "execution_count": null,
   "id": "dd4641ac",
   "metadata": {},
   "outputs": [],
   "source": []
  },
  {
   "cell_type": "code",
   "execution_count": 62,
   "id": "3254a526",
   "metadata": {},
   "outputs": [
    {
     "data": {
      "text/plain": [
       "0"
      ]
     },
     "execution_count": 62,
     "metadata": {},
     "output_type": "execute_result"
    }
   ],
   "source": [
    "b"
   ]
  },
  {
   "cell_type": "code",
   "execution_count": null,
   "id": "ab0ae6fd",
   "metadata": {},
   "outputs": [],
   "source": []
  }
 ],
 "metadata": {
  "kernelspec": {
   "display_name": "Python 3 (ipykernel)",
   "language": "python",
   "name": "python3"
  },
  "language_info": {
   "codemirror_mode": {
    "name": "ipython",
    "version": 3
   },
   "file_extension": ".py",
   "mimetype": "text/x-python",
   "name": "python",
   "nbconvert_exporter": "python",
   "pygments_lexer": "ipython3",
   "version": "3.9.12"
  }
 },
 "nbformat": 4,
 "nbformat_minor": 5
}
