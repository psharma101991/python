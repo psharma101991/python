{
 "cells": [
  {
   "cell_type": "markdown",
   "id": "88c00c3e",
   "metadata": {},
   "source": [
    "Q.2 Write a python program to convert kilometers to miles?"
   ]
  },
  {
   "cell_type": "code",
   "execution_count": 1,
   "id": "b0bc5d6d",
   "metadata": {},
   "outputs": [
    {
     "name": "stdout",
     "output_type": "stream",
     "text": [
      "please enter kilometer value\n",
      "45\n",
      "45 kilometer is equal to 27.9 miles\n"
     ]
    }
   ],
   "source": [
    "km=int(input(\"please enter kilometer value\\n\" ))\n",
    "miles=km*.62\n",
    "print(f\"{km} kilometer is equal to {miles} miles\")"
   ]
  },
  {
   "cell_type": "markdown",
   "id": "dc61e50f",
   "metadata": {},
   "source": [
    "Q.2 Write a python program to convert to Celsius to Fehrenheit ?"
   ]
  },
  {
   "cell_type": "code",
   "execution_count": 2,
   "id": "3e92bc9c",
   "metadata": {},
   "outputs": [
    {
     "name": "stdout",
     "output_type": "stream",
     "text": [
      "please enter Celsius value\n",
      "3\n",
      "3 Celsius is equal to 37.4 Fehrenheit\n"
     ]
    }
   ],
   "source": [
    "cels=int(input(\"please enter Celsius value\\n\" ))\n",
    "fehren=(cels*(9/5)+32)\n",
    "print(f\"{cels} Celsius is equal to {fehren} Fehrenheit\")"
   ]
  },
  {
   "cell_type": "markdown",
   "id": "bd32b6cd",
   "metadata": {},
   "source": [
    "Q.3 Write a python program to display calender?"
   ]
  },
  {
   "cell_type": "code",
   "execution_count": 3,
   "id": "e469493e",
   "metadata": {},
   "outputs": [
    {
     "name": "stdout",
     "output_type": "stream",
     "text": [
      "     June 2016\n",
      "Mo Tu We Th Fr Sa Su\n",
      "       1  2  3  4  5\n",
      " 6  7  8  9 10 11 12\n",
      "13 14 15 16 17 18 19\n",
      "20 21 22 23 24 25 26\n",
      "27 28 29 30\n",
      "\n"
     ]
    }
   ],
   "source": [
    "import calendar\n",
    "yy=2016\n",
    "mm=6\n",
    "print(calendar.month(yy,mm))"
   ]
  },
  {
   "cell_type": "markdown",
   "id": "80f5d7d4",
   "metadata": {},
   "source": [
    "Q.4 Write a python program to solve quadratic equation?\n"
   ]
  },
  {
   "cell_type": "code",
   "execution_count": 7,
   "id": "2158de54",
   "metadata": {},
   "outputs": [
    {
     "name": "stdout",
     "output_type": "stream",
     "text": [
      "enter value of a2\n",
      "enter value of b3\n",
      "enter value of c3\n",
      "enter value of x2\n",
      "The value of equation is 17\n"
     ]
    }
   ],
   "source": [
    "a=int(input(\"enter value of a\"))\n",
    "b=int(input(\"enter value of b\"))\n",
    "c=int(input(\"enter value of c\"))\n",
    "x=int(input(\"enter value of x\"))\n",
    "equation=a*x**2+b*x+c\n",
    "print(f\"The value of equation is {equation}\")"
   ]
  },
  {
   "cell_type": "markdown",
   "id": "09263552",
   "metadata": {},
   "source": [
    "Q.5 Write a python program to swap two variables without temp variables?"
   ]
  },
  {
   "cell_type": "code",
   "execution_count": 8,
   "id": "b060ae5f",
   "metadata": {},
   "outputs": [
    {
     "name": "stdout",
     "output_type": "stream",
     "text": [
      "10 5\n"
     ]
    }
   ],
   "source": [
    "a=5\n",
    "b=10\n",
    "a,b=b,a\n",
    "print(a,b)"
   ]
  },
  {
   "cell_type": "code",
   "execution_count": null,
   "id": "34947781",
   "metadata": {},
   "outputs": [],
   "source": []
  }
 ],
 "metadata": {
  "kernelspec": {
   "display_name": "Python 3 (ipykernel)",
   "language": "python",
   "name": "python3"
  },
  "language_info": {
   "codemirror_mode": {
    "name": "ipython",
    "version": 3
   },
   "file_extension": ".py",
   "mimetype": "text/x-python",
   "name": "python",
   "nbconvert_exporter": "python",
   "pygments_lexer": "ipython3",
   "version": "3.9.12"
  }
 },
 "nbformat": 4,
 "nbformat_minor": 5
}
